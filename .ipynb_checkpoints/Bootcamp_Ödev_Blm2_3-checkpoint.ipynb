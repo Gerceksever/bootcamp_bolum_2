{
 "cells": [
  {
   "cell_type": "markdown",
   "metadata": {},
   "source": [
    "İçerisinde 7 günün bulunduğu bir sözlük oluşturun. Kullanıcıya günleri listeleyerek 2 farklı gün seçmesini isteyin (örneğin pazartesi ve salı için \"12\" gibi). Kullanıcının seçtiği günleri sözlükten silerek kalan 5 günü ekrana yazdırın."
   ]
  },
  {
   "cell_type": "code",
   "execution_count": 56,
   "metadata": {},
   "outputs": [
    {
     "name": "stdout",
     "output_type": "stream",
     "text": [
      "{1: 'Pazartesi', 2: 'Salı', 3: 'Çarşamba', 4: 'Perşembe', 5: 'Cuma', 6: 'Cumartesi', 7: 'Pazar'}\n"
     ]
    }
   ],
   "source": [
    "Hafta={1:'Pazartesi',2:'Salı',3:'Çarşamba',4:'Perşembe',5:'Cuma',6:'Cumartesi',7:'Pazar'}\n",
    "print(Hafta)"
   ]
  },
  {
   "cell_type": "code",
   "execution_count": 57,
   "metadata": {
    "scrolled": true
   },
   "outputs": [
    {
     "name": "stdout",
     "output_type": "stream",
     "text": [
      "Günleri seçiniz(Örnek:15)12\n"
     ]
    }
   ],
   "source": [
    "Silinecek_Günler=input('Günleri seçiniz(Örnek:15)')"
   ]
  },
  {
   "cell_type": "code",
   "execution_count": 58,
   "metadata": {},
   "outputs": [
    {
     "data": {
      "text/plain": [
       "str"
      ]
     },
     "execution_count": 58,
     "metadata": {},
     "output_type": "execute_result"
    }
   ],
   "source": [
    "type(Silinecek_Günler)"
   ]
  },
  {
   "cell_type": "code",
   "execution_count": 59,
   "metadata": {},
   "outputs": [
    {
     "name": "stdout",
     "output_type": "stream",
     "text": [
      "1\n",
      "2\n"
     ]
    }
   ],
   "source": [
    "Birinci_Gün=int(Silinecek_Günler[0])\n",
    "print(Birinci_Gün)\n",
    "İkinci_Gün=int(Silinecek_Günler[1])\n",
    "print(İkinci_Gün)"
   ]
  },
  {
   "cell_type": "code",
   "execution_count": 60,
   "metadata": {},
   "outputs": [
    {
     "name": "stdout",
     "output_type": "stream",
     "text": [
      "{2: 'Salı', 3: 'Çarşamba', 4: 'Perşembe', 5: 'Cuma', 6: 'Cumartesi', 7: 'Pazar'}\n"
     ]
    }
   ],
   "source": [
    "Hafta={1:'Pazartesi',2:'Salı',3:'Çarşamba',4:'Perşembe',5:'Cuma',6:'Cumartesi',7:'Pazar'}\n",
    "del Hafta[Birinci_Gün]\n",
    "print(Hafta)"
   ]
  },
  {
   "cell_type": "code",
   "execution_count": 61,
   "metadata": {},
   "outputs": [],
   "source": [
    "del Hafta[İkinci_Gün]"
   ]
  },
  {
   "cell_type": "code",
   "execution_count": 62,
   "metadata": {},
   "outputs": [
    {
     "name": "stdout",
     "output_type": "stream",
     "text": [
      "{3: 'Çarşamba', 4: 'Perşembe', 5: 'Cuma', 6: 'Cumartesi', 7: 'Pazar'}\n"
     ]
    }
   ],
   "source": [
    "print(Hafta)"
   ]
  },
  {
   "cell_type": "markdown",
   "metadata": {},
   "source": [
    "Ayların kaç gün çektiğini karıştırabiliyoruz. Bunun için bir liste oluşturun ancak listenizde ay isimleri ve gün sayıları beraber bulunsun (ipucu: listenizin içinde başka bir veri yapısı yer alacak!)."
   ]
  },
  {
   "cell_type": "code",
   "execution_count": 63,
   "metadata": {},
   "outputs": [
    {
     "name": "stdout",
     "output_type": "stream",
     "text": [
      "[['Ocak', 31], ['Şubat', 28], ['Mart', 31], ['Nisan', 30], ['Mayıs', 31], ['Haziran', 30], ['Temmuz', 31], ['Ağustos', 31], ['Eylül', 30], ['Ekim', 31], ['Kasım', 30], ['Aralık', 31]]\n"
     ]
    }
   ],
   "source": [
    "Aylar = [['Ocak',31 ],['Şubat',28], ['Mart',31],['Nisan',30],['Mayıs',31],['Haziran',30],\n",
    "         ['Temmuz',31],['Ağustos',31],['Eylül',30], ['Ekim',31],['Kasım',30], ['Aralık',31]]\n",
    "print(Aylar)"
   ]
  },
  {
   "cell_type": "markdown",
   "metadata": {},
   "source": [
    "Bilgileri bir önceki listeden alan başka bir ay listesi oluşturun. Bu kez ayları günlerle birlikte listenin içinde iki ayrı listede tutun."
   ]
  },
  {
   "cell_type": "code",
   "execution_count": 37,
   "metadata": {},
   "outputs": [],
   "source": [
    "Yeni_Aylar= [[Aylar[0][0], Aylar[1][0], Aylar[2][0], Aylar[3][0], Aylar[4][0], Aylar[5][0], Aylar[6][0], Aylar[7][0], Aylar[8][0],\n",
    "            Aylar[9][0], Aylar[10][0], Aylar[11][0]], [Aylar[0][1], Aylar[1][1], Aylar[2][1], Aylar[3][1], Aylar[4][1], Aylar[5][1],\n",
    "            Aylar[6][1], Aylar[7][1], Aylar[8][1], Aylar[9][1], Aylar[10][1], Aylar[11][1],]]"
   ]
  },
  {
   "cell_type": "code",
   "execution_count": 64,
   "metadata": {
    "scrolled": true
   },
   "outputs": [
    {
     "name": "stdout",
     "output_type": "stream",
     "text": [
      "[['Ocak', 'Şubat', 'Mart', 'Nisan', 'Mayıs', 'Haziran', 'Temmuz', 'Ağustos', 'Eylül', 'Ekim', 'Kasım', 'Aralık'], [31, 28, 31, 30, 31, 30, 31, 31, 30, 31, 30, 31]]\n"
     ]
    }
   ],
   "source": [
    "print(Yeni_Aylar)"
   ]
  },
  {
   "cell_type": "markdown",
   "metadata": {},
   "source": [
    "Şimdi ise mevsim mevsim ayrılmış ay listeleri oluşturun. Liste adlarına mevsimlerin adlarını verin."
   ]
  },
  {
   "cell_type": "code",
   "execution_count": 65,
   "metadata": {},
   "outputs": [
    {
     "name": "stdout",
     "output_type": "stream",
     "text": [
      "[['Mart', 'Nisan', 'Mayıs'], ['Haziran', 'Temmuz', 'Ağustos'], ['Eylül', 'Ekim', 'Kasım'], ['Aralık', 'Şubat', 'Mart']]\n"
     ]
    }
   ],
   "source": [
    "ilkbahar = [Yeni_Aylar [0][2], Yeni_Aylar [0][3], Yeni_Aylar [0][4]]\n",
    "yaz = [Yeni_Aylar [0][5], Yeni_Aylar [0][6],Yeni_Aylar [0][7]]\n",
    "sonbahar = [Yeni_Aylar [0][8], Yeni_Aylar [0][9], Yeni_Aylar [0][10]]\n",
    "kış = [Yeni_Aylar [0][11], Yeni_Aylar [0][1], Yeni_Aylar [0][2]]\n",
    "mevsim_ayları = [ilkbahar, yaz, sonbahar, kış]\n",
    "print(mevsim_ayları)"
   ]
  },
  {
   "cell_type": "markdown",
   "metadata": {},
   "source": [
    "Son olarak, bir önceki sorudaki listeden yaz ayının kaç gün sürdüğünü hesaplayın."
   ]
  },
  {
   "cell_type": "code",
   "execution_count": 66,
   "metadata": {},
   "outputs": [],
   "source": [
    "Yaz_Ayları_Günsayısı= [Yeni_Aylar [1][5], Yeni_Aylar [1][6],Yeni_Aylar [1][7]]"
   ]
  },
  {
   "cell_type": "code",
   "execution_count": 55,
   "metadata": {},
   "outputs": [
    {
     "name": "stdout",
     "output_type": "stream",
     "text": [
      "Yaz_Ayları_Günsayısı: 92\n"
     ]
    }
   ],
   "source": [
    "print(\"Yaz_Ayları_Günsayısı:\", Yeni_Aylar [1][5]+ Yeni_Aylar [1][6]+ Yeni_Aylar [1][7])"
   ]
  }
 ],
 "metadata": {
  "kernelspec": {
   "display_name": "Python 3",
   "language": "python",
   "name": "python3"
  },
  "language_info": {
   "codemirror_mode": {
    "name": "ipython",
    "version": 3
   },
   "file_extension": ".py",
   "mimetype": "text/x-python",
   "name": "python",
   "nbconvert_exporter": "python",
   "pygments_lexer": "ipython3",
   "version": "3.7.0"
  }
 },
 "nbformat": 4,
 "nbformat_minor": 2
}
