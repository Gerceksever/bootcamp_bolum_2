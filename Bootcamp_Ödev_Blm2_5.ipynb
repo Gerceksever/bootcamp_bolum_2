{
 "cells": [
  {
   "cell_type": "markdown",
   "metadata": {},
   "source": [
    "Seçeceğiniz herhangi bir şiiri bilgisayarına .txt dsyası olarak kaydedin. Şiirin kaç dizeden oluştuğunu hesaplayın ve başka bir dosyaya her dizenin ilk kelimesini yazdırın."
   ]
  },
  {
   "cell_type": "code",
   "execution_count": 3,
   "metadata": {},
   "outputs": [],
   "source": [
    "with open(\"istanbul.txt\", \"r\", encoding='utf8') as f:\n",
    "    dizeler = f.readlines()"
   ]
  },
  {
   "cell_type": "code",
   "execution_count": 10,
   "metadata": {},
   "outputs": [
    {
     "name": "stdout",
     "output_type": "stream",
     "text": [
      "'İstanbul' şiiri 38 dizeden oluşmaktadir\n"
     ]
    }
   ],
   "source": [
    "dize_sayisi = [dize for dize in dizeler if dize != '\\n']\n",
    "print(\"'İstanbul' şiiri {} dizeden oluşmaktadir\".format(len(dize_sayisi)))"
   ]
  },
  {
   "cell_type": "code",
   "execution_count": 17,
   "metadata": {},
   "outputs": [],
   "source": [
    "with open(\"ilk_kelimeler.txt\",'w', encoding='utf8') as f: \n",
    "    for dize in dize_sayisi:\n",
    "        f.write(dize.split()[0]+'\\n')"
   ]
  },
  {
   "cell_type": "code",
   "execution_count": 18,
   "metadata": {},
   "outputs": [
    {
     "name": "stdout",
     "output_type": "stream",
     "text": [
      "[\"İstanbul'u\\n\", 'Önce\\n', 'Yavaş\\n', 'Yapraklar\\n', 'Uzaklarda,\\n', 'Sucuların\\n', \"İstanbul'u\\n\", \"İstanbul'u\\n\", 'Kuşlar\\n', 'Yükseklerden,\\n', 'Ağlar\\n', 'Bir\\n', \"İstanbul'u\\n\", \"İstanbul'u\\n\", 'Serin\\n', 'Cıvıl\\n', 'Güvercin\\n', 'Çekiç\\n', 'Güzelim\\n', \"İstanbul'u\\n\", \"İstanbul'u\\n\", 'Başımda\\n', 'Loş\\n', 'Dinmiş\\n', \"İstanbul'u\\n\", \"İstanbul'u\\n\", 'Bir\\n', 'Küfürler,\\n', 'Bir\\n', 'Bir\\n', \"İstanbul'u\\n\", \"İstanbul'u\\n\", 'Bir\\n', 'Alnın\\n', 'Dudakların\\n', 'Beyaz\\n', 'Kalbinin\\n', \"İstanbul'u\\n\"]\n"
     ]
    }
   ],
   "source": [
    "with open(\"ilk_kelimeler.txt\", \"r\", encoding='utf8') as f:\n",
    "    dizeler = f.readlines()\n",
    "    print(dizeler)"
   ]
  },
  {
   "cell_type": "markdown",
   "metadata": {},
   "source": [
    "Parametre olarak girilen bir sayının asal sayı olup olmadığını belirten bir fonksiyon yazın."
   ]
  },
  {
   "cell_type": "code",
   "execution_count": 47,
   "metadata": {},
   "outputs": [
    {
     "name": "stdout",
     "output_type": "stream",
     "text": [
      "Bir sayı giriniz:17\n"
     ]
    }
   ],
   "source": [
    "a=int(input('Bir sayı giriniz:'))"
   ]
  },
  {
   "cell_type": "code",
   "execution_count": 48,
   "metadata": {},
   "outputs": [
    {
     "name": "stdout",
     "output_type": "stream",
     "text": [
      "True\n"
     ]
    }
   ],
   "source": [
    "sayi=a\n",
    "def asal_kontrol(sayi):\n",
    "    for x in range(2,sayi):\n",
    "        if sayi % x == 0:\n",
    "            return False\n",
    "        else:\n",
    "            return True\n",
    "print(asal_kontrol(sayi))"
   ]
  },
  {
   "cell_type": "markdown",
   "metadata": {},
   "source": [
    "Parametre olarak girilecek listenin elemanlarını yeni bir listeye her değer sadece bir kere geçecek şekilde aktaran bir fonksiyon yazın. Normalde bu işlemi set() komutu ile yapabiliriz ama bu seferlik bu komutu kullanmayalım.\n",
    "\n",
    " Örnek : uniq_liste([1,2,2,3,3,4,4]) = [1,2,3,4]"
   ]
  },
  {
   "cell_type": "code",
   "execution_count": 44,
   "metadata": {},
   "outputs": [],
   "source": [
    "liste=[7,7,7,8,8,9,9,9,3]"
   ]
  },
  {
   "cell_type": "code",
   "execution_count": 45,
   "metadata": {},
   "outputs": [],
   "source": [
    "def uniq_liste(liste):\n",
    "    yeni_liste = []\n",
    "    for eleman in liste :\n",
    "        if eleman not in yeni_liste:\n",
    "            yeni_liste.append(eleman)\n",
    "    return(yeni_liste)"
   ]
  },
  {
   "cell_type": "code",
   "execution_count": 46,
   "metadata": {},
   "outputs": [
    {
     "data": {
      "text/plain": [
       "[7, 8, 9, 3]"
      ]
     },
     "execution_count": 46,
     "metadata": {},
     "output_type": "execute_result"
    }
   ],
   "source": [
    "uniq_liste(liste)"
   ]
  },
  {
   "cell_type": "markdown",
   "metadata": {},
   "source": [
    "Python'da hazır birçok modül bulunmaktadır. Zaman ile ilgili modüllerden birisini import ederek, parametre olarak doğum tarihi alan ve yaşı döndüren bir fonksiyon yazınız."
   ]
  },
  {
   "cell_type": "code",
   "execution_count": 43,
   "metadata": {},
   "outputs": [
    {
     "data": {
      "text/plain": [
       "39"
      ]
     },
     "execution_count": 43,
     "metadata": {},
     "output_type": "execute_result"
    }
   ],
   "source": [
    "from datetime import date \n",
    "def yas_hesapla(y,a,g):\n",
    "    bugun = date.today()\n",
    "    dogum_tarihi = date(y,a,g)\n",
    "    yas = bugun.year - dogum_tarihi.year\n",
    "    return yas\n",
    "\n",
    "yas_hesapla(1980,8,7)"
   ]
  }
 ],
 "metadata": {
  "kernelspec": {
   "display_name": "Python 3",
   "language": "python",
   "name": "python3"
  },
  "language_info": {
   "codemirror_mode": {
    "name": "ipython",
    "version": 3
   },
   "file_extension": ".py",
   "mimetype": "text/x-python",
   "name": "python",
   "nbconvert_exporter": "python",
   "pygments_lexer": "ipython3",
   "version": "3.7.0"
  }
 },
 "nbformat": 4,
 "nbformat_minor": 2
}
