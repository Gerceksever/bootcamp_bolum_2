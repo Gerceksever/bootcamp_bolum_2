{
 "cells": [
  {
   "cell_type": "markdown",
   "metadata": {},
   "source": [
    "Kullanıcıdan Santigrat ya da Fahrenheit olarak sıcaklık değerini alacak ve diğer sıcaklık birimine çevirecek bir kod yazın. Dönüşüm için C = (5/9) * (F - 32) formülünü kullanabilirsiniz.\n",
    "\n",
    "Örnek : \"40C\" --> \"104F\" \"52F\" --> \"11.1\""
   ]
  },
  {
   "cell_type": "code",
   "execution_count": 23,
   "metadata": {},
   "outputs": [
    {
     "name": "stdout",
     "output_type": "stream",
     "text": [
      "Sıcaklık değerini giriniz:45C\n",
      "138.60F\n"
     ]
    }
   ],
   "source": [
    "Girilen_Sıcaklık=input(\"Sıcaklık değerini giriniz:\")\n",
    "Sıcaklık=int(Girilen_Sıcaklık[:-1])\n",
    "Tip=Girilen_Sıcaklık[-1]\n",
    "Yeni_Sıcaklık=0\n",
    "if Tip =='F':\n",
    "    Yeni_Sıcaklık=(5/9) * (Sıcaklık-32)\n",
    "    Son_tip ='C'\n",
    "elif Tip =='C':\n",
    "    Yeni_sıcaklık=(9/5)*(Sıcaklık+32)\n",
    "    Son_tip ='F'\n",
    "print('{:.2f}{}'.format(Yeni_sıcaklık,Son_tip))"
   ]
  },
  {
   "cell_type": "markdown",
   "metadata": {},
   "source": [
    "Kullanıcının girdiği kelimeyi ters çeviren bir kod yazınız.\"otobüs\" --> \"süboto\""
   ]
  },
  {
   "cell_type": "code",
   "execution_count": 24,
   "metadata": {},
   "outputs": [
    {
     "name": "stdout",
     "output_type": "stream",
     "text": [
      "Bir kelime yazınız:TUĞBA\n",
      "ABĞUT"
     ]
    }
   ],
   "source": [
    "Kelime=input(\"Bir kelime yazınız:\")\n",
    "for x in range(-1,-len(Kelime)-1,-1):\n",
    "    print(Kelime[x], end=\"\")"
   ]
  },
  {
   "cell_type": "markdown",
   "metadata": {},
   "source": [
    "1'den 50'ye kadar olan Fibonacci sayılarından oluşan bir liste oluşturun. İlk iki Fibonacci sayısı 1'dir. Sonraki sayılar, önceki iki sayının toplamıdır."
   ]
  },
  {
   "cell_type": "code",
   "execution_count": 18,
   "metadata": {},
   "outputs": [
    {
     "name": "stdout",
     "output_type": "stream",
     "text": [
      "[1, 1, 2, 3, 5, 8, 13, 21, 34]\n"
     ]
    }
   ],
   "source": [
    "fibonacci = [1, 1]\n",
    "while fibonacci[-1]+fibonacci[-2]<50:\n",
    "    fibonacci.append(fibonacci[-1]+fibonacci[-2])\n",
    "print (fibonacci)"
   ]
  },
  {
   "cell_type": "markdown",
   "metadata": {},
   "source": [
    "Girilen bir sayı için çarpım tablosunu yazdırın.\n",
    "\n",
    " Örnek : Bir sayı girin : 6\n",
    "         6 x 1 = 6                                                               \n",
    "         6 x 2 = 12                                                              \n",
    "         6 x 3 = 18                                                              \n",
    "         6 x 4 = 24                                                              \n",
    "         6 x 5 = 30                                                              \n",
    "         6 x 6 = 36                                                              \n",
    "         6 x 7 = 42                                                              \n",
    "         6 x 8 = 48                                                              \n",
    "         6 x 9 = 54                                                              \n",
    "         6 x 10 = 60 "
   ]
  },
  {
   "cell_type": "code",
   "execution_count": 25,
   "metadata": {},
   "outputs": [
    {
     "name": "stdout",
     "output_type": "stream",
     "text": [
      "Bir sayı giriniz:9\n",
      "9 x 1 = 9\n",
      "9 x 2 = 18\n",
      "9 x 3 = 27\n",
      "9 x 4 = 36\n",
      "9 x 5 = 45\n",
      "9 x 6 = 54\n",
      "9 x 7 = 63\n",
      "9 x 8 = 72\n",
      "9 x 9 = 81\n",
      "9 x 10 = 90\n"
     ]
    }
   ],
   "source": [
    "x=int(input(\"Bir sayı giriniz:\"))\n",
    "for y in range(1,11):\n",
    "    print('{} x {} = {}'.format(x,y,x*y))"
   ]
  },
  {
   "cell_type": "markdown",
   "metadata": {},
   "source": [
    "List comprehension kullanarak, 1'den 20'ye kadar tek sayıların karesini, çift sayıların küpünü içeren bir liste oluşturun."
   ]
  },
  {
   "cell_type": "code",
   "execution_count": 17,
   "metadata": {},
   "outputs": [
    {
     "name": "stdout",
     "output_type": "stream",
     "text": [
      "[1, 8, 9, 64, 25, 216, 49, 512, 81, 1000, 121, 1728, 169, 2744, 225, 4096, 289, 5832, 361]\n"
     ]
    }
   ],
   "source": [
    "liste=[x**2 if x%2 !=0 else x**3 for x in range(1,20)]\n",
    "print(liste)"
   ]
  }
 ],
 "metadata": {
  "kernelspec": {
   "display_name": "Python 3",
   "language": "python",
   "name": "python3"
  },
  "language_info": {
   "codemirror_mode": {
    "name": "ipython",
    "version": 3
   },
   "file_extension": ".py",
   "mimetype": "text/x-python",
   "name": "python",
   "nbconvert_exporter": "python",
   "pygments_lexer": "ipython3",
   "version": "3.7.0"
  }
 },
 "nbformat": 4,
 "nbformat_minor": 2
}
